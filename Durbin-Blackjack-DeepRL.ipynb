{
 "cells": [
  {
   "cell_type": "markdown",
   "id": "fb32f5ba-313e-4ccf-8b2b-065d9e3feada",
   "metadata": {},
   "source": [
    "# Learning to play Blackjack using Deep Reinforcement Learning\n",
    "## Chris Durbin"
   ]
  },
  {
   "cell_type": "code",
   "execution_count": null,
   "id": "fd0ce0bc-52ca-427b-ba6a-d197173cf0c4",
   "metadata": {},
   "outputs": [],
   "source": []
  }
 ],
 "metadata": {
  "kernelspec": {
   "display_name": "Python 3 (ipykernel)",
   "language": "python",
   "name": "python3"
  },
  "language_info": {
   "codemirror_mode": {
    "name": "ipython",
    "version": 3
   },
   "file_extension": ".py",
   "mimetype": "text/x-python",
   "name": "python",
   "nbconvert_exporter": "python",
   "pygments_lexer": "ipython3",
   "version": "3.11.6"
  }
 },
 "nbformat": 4,
 "nbformat_minor": 5
}
